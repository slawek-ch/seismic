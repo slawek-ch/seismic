{
  "nbformat": 4,
  "nbformat_minor": 0,
  "metadata": {
    "colab": {
      "name": "digby1981.ipynb",
      "provenance": [],
      "collapsed_sections": [],
      "authorship_tag": "ABX9TyM390xG92/kYH0y+/hbsek9",
      "include_colab_link": true
    },
    "kernelspec": {
      "name": "python3",
      "display_name": "Python 3"
    }
  },
  "cells": [
    {
      "cell_type": "markdown",
      "metadata": {
        "id": "view-in-github",
        "colab_type": "text"
      },
      "source": [
        "<a href=\"https://colab.research.google.com/github/yohanesnuwara/computational-geophysics/blob/master/digby1981.ipynb\" target=\"_parent\"><img src=\"https://colab.research.google.com/assets/colab-badge.svg\" alt=\"Open In Colab\"/></a>"
      ]
    },
    {
      "cell_type": "markdown",
      "metadata": {
        "id": "_21MieV7pPOf",
        "colab_type": "text"
      },
      "source": [
        "# **Digby (1981) to Model Rock Compressibilities with Respect to Pressure**\n",
        "\n",
        "**Digby (1981) is valid for clastic sedimentary rocks (sandstone, chalk), not for carbonate**\n",
        "\n",
        "Digby (1981) represented a rock as collection of grains with radius `r` and neighboring bonded particles with radius `a`. While **pore pressure** decreases, space `a` decreases to a new radius `b`. Digby (1981) used term **differential pressure** rather than pore pressure. Differential pressure (effective pressure) is confining pressure minus pore pressure: `P_eff = P_conf - Pp`. A new term, coordination number or `Cp` was also introduced. **Murphy (1982)** stated that `Cp` is proportional to `e^(1-porosity)`.  "
      ]
    },
    {
      "cell_type": "code",
      "metadata": {
        "id": "Du2GOF94Fq2G",
        "colab_type": "code",
        "colab": {}
      },
      "source": [
        "import numpy as np\n",
        "import matplotlib.pyplot as plt\n",
        "from scipy.optimize import fsolve"
      ],
      "execution_count": null,
      "outputs": []
    },
    {
      "cell_type": "markdown",
      "metadata": {
        "id": "UhZgwLep1nPW",
        "colab_type": "text"
      },
      "source": [
        "### Step 1. Murphy (1982) to Compute Coordination Number"
      ]
    },
    {
      "cell_type": "markdown",
      "metadata": {
        "id": "gY8kZ4CTts62",
        "colab_type": "text"
      },
      "source": [
        "Murphy (1982) theory of proportionality of coordination number `Cp` and porosity. Supposing the real equation that relates both is `Cp = 11.759 * e^(1 - porosity) - 12.748` [(Li and Ma, 2019)](https://). "
      ]
    },
    {
      "cell_type": "code",
      "metadata": {
        "id": "BwuYwCKEFz67",
        "colab_type": "code",
        "colab": {
          "base_uri": "https://localhost:8080/",
          "height": 312
        },
        "outputId": "ba3c526c-7b7f-4379-de8a-8ebe5af42114"
      },
      "source": [
        "poro_arr = np.linspace(0, 1, 100)\n",
        "Cp_arr = 11.759 * np.exp(1 - poro_arr) - 12.748\n",
        "plt.plot(poro_arr, Cp_arr)\n",
        "plt.title('Coordination Number to Porosity')\n",
        "plt.xlim(0, 1); plt.ylim(0, 20)\n",
        "plt.xlabel('Porosity'); plt.ylabel('Coordination number')"
      ],
      "execution_count": null,
      "outputs": [
        {
          "output_type": "execute_result",
          "data": {
            "text/plain": [
              "Text(0, 0.5, 'Coordination number')"
            ]
          },
          "metadata": {
            "tags": []
          },
          "execution_count": 67
        },
        {
          "output_type": "display_data",
          "data": {
            "image/png": "[encoded data removed]",
            "text/plain": [
              "<Figure size 432x288 with 1 Axes>"
            ]
          },
          "metadata": {
            "tags": []
          }
        }
      ]
    },
    {
      "cell_type": "markdown",
      "metadata": {
        "id": "vIitFe0L1w2I",
        "colab_type": "text"
      },
      "source": [
        "### Step 2. Calculate Rock Properties (Mineral Bulk and Shear Incompressibility)"
      ]
    },
    {
      "cell_type": "markdown",
      "metadata": {
        "id": "DHK0qubIvuL7",
        "colab_type": "text"
      },
      "source": [
        "Supposing a sandstone has **50% porosity**, composed of **50% quartz** and **50% clay minerals**, and **Poisson's ratio of 0.4** (Typically sandstone has `poisson` between 0.1 and 0.4). Mineral bulk moduli (`Km`) and shear moduli (`Gm`) can be computed using **Voigt-Reuss-Hill method**. "
      ]
    },
    {
      "cell_type": "code",
      "metadata": {
        "id": "cFBjmP8gwJcK",
        "colab_type": "code",
        "colab": {
          "base_uri": "https://localhost:8080/",
          "height": 67
        },
        "outputId": "9a7d7d14-a8aa-49d4-81fe-4137d5076b09"
      },
      "source": [
        "# Voigt Reuss Hill to compute Km and Gm\n",
        "\n",
        "rhocalc = 2.71; Kcalc = 76.8; Gcalc = 32\n",
        "rhoclay = 2.58; Kclay = 20.9; Gclay = 6.9\n",
        "rhodolo = 2.87; Kdolo = 94.9; Gdolo = 45\n",
        "rhoqtz = 2.65; Kqtz = 36.6; Gqtz = 45\n",
        "# mineral composition\n",
        "calc = 0; clay = 0.5; dolo = 0; qtz = 0.5\n",
        "\n",
        "mincomposition = np.array([calc, clay, dolo, qtz])\n",
        "rhomineral = np.array([rhocalc, rhoclay, rhodolo, rhoqtz])\n",
        "Kmineral = np.array([Kcalc, Kclay, Kdolo, Kqtz])\n",
        "Kmineral_inv = 1 / Kmineral\n",
        "Gmineral = np.array([Gcalc, Gclay, Gdolo, Kqtz])\n",
        "Gmineral_inv = 1 / Gmineral\n",
        "\n",
        "Kv = sum(mincomposition * Kmineral)\n",
        "Kr_inv = sum(mincomposition * Kmineral_inv)\n",
        "Gv = sum(mincomposition * Gmineral)\n",
        "Gr_inv = sum(mincomposition * Gmineral_inv)\n",
        "rhom = sum(mincomposition * rhomineral)\n",
        "Km = (Kv+(1/Kr_inv)) / 2\n",
        "Gm = (Gv+(1/Gr_inv)) / 2\n",
        "\n",
        "print(\"Mineral bulk moduli:\", Km, \"GPa\")\n",
        "print(\"Mineral shear moduli:\", Gm, \"GPa\")\n",
        "print(\"Mineral density:\", rhom, \"g/cc\")"
      ],
      "execution_count": null,
      "outputs": [
        {
          "output_type": "stream",
          "text": [
            "Mineral bulk moduli: 27.678304347826085 GPa\n",
            "Mineral shear moduli: 16.68051724137931 GPa\n",
            "Mineral density: 2.615 g/cc\n"
          ],
          "name": "stdout"
        }
      ]
    },
    {
      "cell_type": "code",
      "metadata": {
        "id": "nVvYAReUIbdx",
        "colab_type": "code",
        "colab": {
          "base_uri": "https://localhost:8080/",
          "height": 34
        },
        "outputId": "9a885846-2d0e-4b56-e896-afe483a0f1a5"
      },
      "source": [
        "poro = 0.5\n",
        "Cp = 11.759 * np.exp(1 - poro) - 12.748\n",
        "print(\"Rock coordination number:\", Cp)"
      ],
      "execution_count": null,
      "outputs": [
        {
          "output_type": "stream",
          "text": [
            "Rock coordination number: 6.639313422162809\n"
          ],
          "name": "stdout"
        }
      ]
    },
    {
      "cell_type": "markdown",
      "metadata": {
        "id": "U732fLsRxI2Y",
        "colab_type": "text"
      },
      "source": [
        "The sandstone has mineral bulk moduli (`Km`) 27.68 GPa, shear moduli (`Gm`) 16.68 GPa, and coordination number (`Cp`) 6.64. "
      ]
    },
    {
      "cell_type": "markdown",
      "metadata": {
        "id": "I-DWfDPd15R8",
        "colab_type": "text"
      },
      "source": [
        "### Step 3. Calculate Differential Pressure\n",
        "\n",
        "Assuming the sandstone is confined to a pressure of `P_conf = 70 MPa` and the pore pressure is `Pp = 60 MPa`.  "
      ]
    },
    {
      "cell_type": "code",
      "metadata": {
        "id": "WVXJdUrfyWXI",
        "colab_type": "code",
        "colab": {
          "base_uri": "https://localhost:8080/",
          "height": 34
        },
        "outputId": "8b544895-7eb7-4a81-bf6a-efb85623190b"
      },
      "source": [
        "P_conf = 70 \n",
        "Pp = 60\n",
        "pressure = P_conf - Pp\n",
        "print(\"Differential pressure:\", pressure, \"MPa\")"
      ],
      "execution_count": null,
      "outputs": [
        {
          "output_type": "stream",
          "text": [
            "Differential pressure: 10 MPa\n"
          ],
          "name": "stdout"
        }
      ]
    },
    {
      "cell_type": "markdown",
      "metadata": {
        "id": "C2s8-GOu2DkI",
        "colab_type": "text"
      },
      "source": [
        "### Step 4. Use Digby (1981) to Compute Dry Rock Incompressibility"
      ]
    },
    {
      "cell_type": "markdown",
      "metadata": {
        "id": "04N58Agpyl8h",
        "colab_type": "text"
      },
      "source": [
        "Since radius `a` and `r` not known, we assume the rock has ratio of a and r (`ratio_ar`) is 1. We then compute dry rock incompressibility (`K_dry`) using **Digby (1981) method**. \n",
        "\n",
        "First, solve `d`. Second, calculate ratio of deformed radius `b` to `r` (`ratio_br`). Third, compute `K_dry`."
      ]
    },
    {
      "cell_type": "code",
      "metadata": {
        "id": "QcTIptKkGetp",
        "colab_type": "code",
        "colab": {
          "base_uri": "https://localhost:8080/",
          "height": 34
        },
        "outputId": "24ac17db-18cf-4e05-dd37-c63b45a0084f"
      },
      "source": [
        "\"Digby (1981) Method\"\n",
        "\n",
        "# ratio_ar = np.linspace(0, 1, 100)\n",
        "ratio_ar = 1\n",
        "\n",
        "poisson = 0.4 # typical sandstone, high poisson ratio\n",
        "Gm = 10 # shear moduli, in GPa\n",
        "pressure = 10 # pressure, in MPa\n",
        "Cp = 10\n",
        "\n",
        "def f(d):\n",
        "  f1 = (d**3) + (1.5 * (ratio_ar**2) * d) - ((3 * np.pi * (1 - poisson) * pressure) / (2 * Cp * (1 - poro) * Gm))\n",
        "  return(f1)\n",
        "\n",
        "d = fsolve(f, 1)\n",
        "\n",
        "ratio_br = np.sqrt((d**2) + (ratio_ar**2))\n",
        "Kdry = ((Cp * (1 - poro) * Gm) / (3 * np.pi * (1 - poisson))) * ratio_br\n",
        "print(\"Dry bulk modulus:\", Kdry, \"GPa\")"
      ],
      "execution_count": null,
      "outputs": [
        {
          "output_type": "stream",
          "text": [
            "Dry bulk modulus: [9.36413669] GPa\n"
          ],
          "name": "stdout"
        }
      ]
    },
    {
      "cell_type": "markdown",
      "metadata": {
        "id": "Oz4QUVZs1lK9",
        "colab_type": "text"
      },
      "source": [
        "### Step 5. Zimmermann (1986) to Compute Pore Compressibility\n",
        "\n",
        "Use [(Zimmermann 1986)](https://() to compute pore incompressibility (`K_pore`) from the resulted `K_dry`. Then, invert `K_pore` to arrive at value of **pore compressibility** or the **formation compressibility** (`cf`). \n",
        "\n",
        "`cf` later is important in **reservoir engineering** since it determine the term **total compressibility as sum of formation compressibility and fluid compressibility** or `ct = cf + (sw * cw) + (so * co) + (sg * cg)`, although often negligible. \n",
        "\n",
        "\n",
        "\n",
        "```\n",
        "sw, so, sg = water, oil, gas saturation\n",
        "sw + so + sg = 1\n",
        "cw, co, cg = water, oil, gas isothermal compressibility\n",
        "```\n",
        "\n",
        "\n",
        "\n"
      ]
    },
    {
      "cell_type": "code",
      "metadata": {
        "id": "vRo77pIZgYqJ",
        "colab_type": "code",
        "colab": {
          "base_uri": "https://localhost:8080/",
          "height": 34
        },
        "outputId": "b7eccaf5-f1de-4079-9361-fcba634769a3"
      },
      "source": [
        "K_pore_inverse = (1 / (poro * Kdry)) - ((1 - poro) / (poro * Km))\n",
        "cf = (1 / K_pore_inverse) / 145038 # from GPa^-1 to psi^-1\n",
        "print(\"Pore compressibility:\", cf, \"psi^-1\")"
      ],
      "execution_count": null,
      "outputs": [
        {
          "output_type": "stream",
          "text": [
            "Pore compressibility: [3.88542625e-05] psi^-1\n"
          ],
          "name": "stdout"
        }
      ]
    },
    {
      "cell_type": "markdown",
      "metadata": {
        "id": "8nlvRM9U6R3O",
        "colab_type": "text"
      },
      "source": [
        "### Plot Change of Pore Compressibilities with Declining Pore Pressure"
      ]
    },
    {
      "cell_type": "markdown",
      "metadata": {
        "id": "11rRPrRi6gFW",
        "colab_type": "text"
      },
      "source": [
        "During production, assuming **pore pressure declines from 60 to 5 MPa**, at **confining pressure 70 MPa**. Sandstone with the same properties, plot the pore compressibility change with respect to declining pore pressure."
      ]
    },
    {
      "cell_type": "code",
      "metadata": {
        "id": "XkdQBdrJ64UR",
        "colab_type": "code",
        "colab": {
          "base_uri": "https://localhost:8080/",
          "height": 351
        },
        "outputId": "481f615e-7914-4ad1-99e7-a2d314a980c9"
      },
      "source": [
        "P_conf - 70\n",
        "Pp = np.arange(5, 61, 1)\n",
        "pressure = P_conf - Pp\n",
        "\n",
        "cf_arr = []\n",
        "\n",
        "for i in range(len(pressure)):\n",
        "\n",
        "  def f(d):\n",
        "    f1 = (d**3) + (1.5 * (ratio_ar**2) * d) - ((3 * np.pi * (1 - poisson) * pressure[i]) / (2 * Cp * (1 - poro) * Gm))\n",
        "    return(f1)\n",
        "  d = fsolve(f, 1)\n",
        "  \n",
        "  ratio_br = np.sqrt((d**2) + (ratio_ar**2))\n",
        "  Kdry = ((Cp * (1 - poro) * Gm) / (3 * np.pi * (1 - poisson))) * ratio_br\n",
        "\n",
        "  K_pore_inverse = (1 / (poro * Kdry)) - ((1 - poro) / (poro * Km))\n",
        "  cf = (1 / K_pore_inverse) / 145038 # from GPa^-1 to psi^-1\n",
        "  cf_arr.append(float(cf))\n",
        "\n",
        "# plot\n",
        "plt.figure(figsize=(15, 5))\n",
        "\n",
        "plt.subplot(1, 2, 1)\n",
        "plt.plot(pressure, cf_arr, '.-', color='blue')\n",
        "plt.title('Pore Compressibility to Differential Pressure')\n",
        "# plt.xlim(0, 1); plt.ylim(0, 20)\n",
        "plt.xlabel('Differential pressure (MPa)'); plt.ylabel('Pore compressibility (psi^-1)')\n",
        "\n",
        "plt.subplot(1, 2, 2)\n",
        "plt.plot(Pp, cf_arr, '.-', color='red')\n",
        "plt.title('Pore Compressibility to Pore Pressure')\n",
        "# plt.xlim(0, 1); plt.ylim(0, 20)\n",
        "plt.xlabel('Pore pressure (MPa)'); plt.ylabel('Pore compressibility (psi^-1)')\n",
        "\n",
        "plt.tight_layout(pad=2.0) # set distance between two plots"
      ],
      "execution_count": null,
      "outputs": [
        {
          "output_type": "display_data",
          "data": {
            "image/png": "[encoded data removed]",
            "text/plain": [
              "<Figure size 1080x360 with 2 Axes>"
            ]
          },
          "metadata": {
            "tags": []
          }
        }
      ]
    },
    {
      "cell_type": "markdown",
      "metadata": {
        "id": "h_PG2SNU-lU1",
        "colab_type": "text"
      },
      "source": [
        "**Conclusion**: In production, while pore pressure decreases, differential pressure increases, the **formation compressibility increases**, due to pore collapse. "
      ]
    },
    {
      "cell_type": "markdown",
      "metadata": {
        "id": "WNtaahQ-4W6K",
        "colab_type": "text"
      },
      "source": [
        "# ***"
      ]
    },
    {
      "cell_type": "code",
      "metadata": {
        "id": "Xkuzd15qkyy8",
        "colab_type": "code",
        "colab": {
          "base_uri": "https://localhost:8080/",
          "height": 34
        },
        "outputId": "2c94902c-248b-4d5e-f3e9-be719a477e7d"
      },
      "source": [
        "# psi to GPa\n",
        "C_formation = 5E-6 / 6.89E-6 # psi^-1 to GPa^-1\n",
        "C_rock = C_formation / ((1 - poro) / poro)\n",
        "K_rock = 1 / C_rock\n",
        "K_rock"
      ],
      "execution_count": null,
      "outputs": [
        {
          "output_type": "execute_result",
          "data": {
            "text/plain": [
              "1.378"
            ]
          },
          "metadata": {
            "tags": []
          },
          "execution_count": 46
        }
      ]
    }
  ]
}